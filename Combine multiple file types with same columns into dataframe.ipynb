{
 "cells": [
  {
   "cell_type": "code",
   "execution_count": 1,
   "metadata": {},
   "outputs": [
    {
     "output_type": "stream",
     "name": "stdout",
     "text": [
      "Opening dialogue box for folder selection. Please choose a folder.\n",
      "Folder selected:\n",
      "/Users/juliareich/Desktop/Comp Sci Fundamentals/Module 7/exerPythCombineFiles/exerPythCombineFiles/FileTypes\n"
     ]
    }
   ],
   "source": [
    "# Have user select excel sheet with needed data.\n",
    "import tkinter as tk\n",
    "from tkinter import filedialog\n",
    "\n",
    "root = tk.Tk()\n",
    "root.lift()\n",
    "root.withdraw()\n",
    "\n",
    "# This code block will open a specific file. (Uncomment the lines after this comment to use them.)\n",
    "#print('Opening dialogue box for file selection. Please choose a file.')\n",
    "#file_path = filedialog.askopenfilename()\n",
    "#print('File selected:')\n",
    "\n",
    "# This code block will get a directory path. (Uncomment the lines after this comment to use them.)\n",
    "print('Opening dialogue box for folder selection. Please choose a folder.')\n",
    "file_path = filedialog.askdirectory()\n",
    "print('Folder selected:')\n",
    "\n",
    "print(file_path)"
   ]
  },
  {
   "cell_type": "code",
   "execution_count": 2,
   "metadata": {},
   "outputs": [
    {
     "output_type": "stream",
     "name": "stdout",
     "text": [
      "All files in folder:  ['EXCELtest2.xlsx', 'CSVtest3.csv', 'CSVtest2.csv', 'XMLtest4.xml', 'JSONtest4.json', 'EXCELtest.xlsx', 'XMLtest2.xml', 'EXCELtest3.xlsx', 'XMLtest3.xml', 'JSONtest.json', 'JSONtest2.json', 'CSVtest.csv', 'JSONtest3.json', 'NewCombinedFile_2020-10-18.csv', 'Combine multiple file types with same columns into dataframe.py', 'Combine multiple file types with same columns into dataframe.ipynb', '.git', 'XMLtest.xml'] \n\nCSV files:  ['CSVtest3.csv', 'CSVtest2.csv', 'CSVtest.csv', 'NewCombinedFile_2020-10-18.csv'] \nExcel files:  ['EXCELtest2.xlsx', 'EXCELtest.xlsx', 'EXCELtest3.xlsx'] \nJSON files:  ['JSONtest4.json', 'JSONtest.json', 'JSONtest2.json', 'JSONtest3.json'] \nXML files:  ['XMLtest4.xml', 'XMLtest2.xml', 'XMLtest3.xml', 'XMLtest.xml']\n"
     ]
    }
   ],
   "source": [
    "# Make sure correct files are recognized.\n",
    "\n",
    "import os\n",
    "import pandas as pd\n",
    "\n",
    "# List the files in the directory.\n",
    "files = os.listdir(file_path)\n",
    "print('All files in folder: ', files, '\\n')\n",
    "\n",
    "# List of file types we want to add\n",
    "file_types = ['xlsx','csv','json','xml']\n",
    "\n",
    "# create a list of files for each file type\n",
    "files_csv = [f for f in files if f[-3:] == 'csv']\n",
    "files_xlsx = [f for f in files if f[-4:] == 'xlsx']\n",
    "files_json = [f for f in files if f[-4:] == 'json']\n",
    "files_xml = [f for f in files if f[-3:] == 'xml']\n",
    "\n",
    "print('CSV files: ', files_csv, '\\nExcel files: ', files_xlsx, '\\nJSON files: ',files_json, '\\nXML files: ', files_xml)"
   ]
  },
  {
   "cell_type": "code",
   "execution_count": 3,
   "metadata": {},
   "outputs": [
    {
     "output_type": "stream",
     "name": "stdout",
     "text": [
      "42\n"
     ]
    },
    {
     "output_type": "execute_result",
     "data": {
      "text/plain": [
       "              name                 date height weight  \\\n",
       "0     Brent Bricks              4/20/19    160     96   \n",
       "1        Jack Back              6/17/19    170     90   \n",
       "2     Jack Shwartz              8/27/20    150     80   \n",
       "3     Brock Bricks            4/10/2019    185     95   \n",
       "4       Jack Brack             6/7/2019    172     91   \n",
       "5       Jack Smith             4/1/2019    185     91   \n",
       "6       Jack Black             4/2/2019    183     91   \n",
       "7     Brent Bricks              4/20/19    160     96   \n",
       "8        Jack Back              6/17/19    170     90   \n",
       "9     Jack Shwartz              8/27/20    150     80   \n",
       "10    Brock Bricks            4/10/2019    185     95   \n",
       "11      Jack Brack             6/7/2019    172     91   \n",
       "12      Jack Smith             4/1/2019    185     91   \n",
       "13      Jack Black             4/2/2019    183     91   \n",
       "14     Rock Royden  2019-05-02 00:00:00    160     52   \n",
       "15   Brandon Snads  2019-10-02 00:00:00    175     80   \n",
       "16       Jen Smith  2019-05-02 00:00:00    153     50   \n",
       "17       Sam Smith  2019-01-02 00:00:00    160     55   \n",
       "18    Rkck Rearden  2019-08-02 00:00:00    165     60   \n",
       "19   Brandon Sands  2019-10-18 00:00:00    183     45   \n",
       "20    Tito Jackson           04/05/2019    185     90   \n",
       "21      Jane Smith           09/02/2019    170     75   \n",
       "22    Jane Jackson           09/03/2019    172     74   \n",
       "23   Becky Jackson           04/03/2019    165     70   \n",
       "24  Brett Thompson           02/08/2019    190     91   \n",
       "25     John Smithe           03/08/2019    185    101   \n",
       "26    Brett Smithe           05/08/2019    179     99   \n",
       "27      John Smith           02/08/2019    180    100   \n",
       "28     Rock Royden  2019-05-02 00:00:00    160     52   \n",
       "29   Brandon Snads  2019-10-02 00:00:00    175     80   \n",
       "30       Jen Smith  2019-05-02 00:00:00    153     50   \n",
       "31       Sam Smith  2019-01-02 00:00:00    160     55   \n",
       "32    Rkck Rearden  2019-08-02 00:00:00    165     60   \n",
       "33   Brandon Sands  2019-10-18 00:00:00    183     45   \n",
       "34    Tito Jackson           04/05/2019    185     90   \n",
       "35      Jane Smith           09/02/2019    170     75   \n",
       "36    Jane Jackson           09/03/2019    172     74   \n",
       "37   Becky Jackson           04/03/2019    165     70   \n",
       "38  Brett Thompson           02/08/2019    190     91   \n",
       "39     John Smithe           03/08/2019    185    101   \n",
       "40    Brett Smithe           05/08/2019    179     99   \n",
       "41      John Smith           02/08/2019    180    100   \n",
       "\n",
       "                            Source  \n",
       "0                     CSVtest3.csv  \n",
       "1                     CSVtest3.csv  \n",
       "2                     CSVtest3.csv  \n",
       "3                     CSVtest2.csv  \n",
       "4                     CSVtest2.csv  \n",
       "5                      CSVtest.csv  \n",
       "6                      CSVtest.csv  \n",
       "7   NewCombinedFile_2020-10-18.csv  \n",
       "8   NewCombinedFile_2020-10-18.csv  \n",
       "9   NewCombinedFile_2020-10-18.csv  \n",
       "10  NewCombinedFile_2020-10-18.csv  \n",
       "11  NewCombinedFile_2020-10-18.csv  \n",
       "12  NewCombinedFile_2020-10-18.csv  \n",
       "13  NewCombinedFile_2020-10-18.csv  \n",
       "14  NewCombinedFile_2020-10-18.csv  \n",
       "15  NewCombinedFile_2020-10-18.csv  \n",
       "16  NewCombinedFile_2020-10-18.csv  \n",
       "17  NewCombinedFile_2020-10-18.csv  \n",
       "18  NewCombinedFile_2020-10-18.csv  \n",
       "19  NewCombinedFile_2020-10-18.csv  \n",
       "20  NewCombinedFile_2020-10-18.csv  \n",
       "21  NewCombinedFile_2020-10-18.csv  \n",
       "22  NewCombinedFile_2020-10-18.csv  \n",
       "23  NewCombinedFile_2020-10-18.csv  \n",
       "24  NewCombinedFile_2020-10-18.csv  \n",
       "25  NewCombinedFile_2020-10-18.csv  \n",
       "26  NewCombinedFile_2020-10-18.csv  \n",
       "27  NewCombinedFile_2020-10-18.csv  \n",
       "28                 EXCELtest2.xlsx  \n",
       "29                 EXCELtest2.xlsx  \n",
       "30                  EXCELtest.xlsx  \n",
       "31                  EXCELtest.xlsx  \n",
       "32                 EXCELtest3.xlsx  \n",
       "33                 EXCELtest3.xlsx  \n",
       "34                  JSONtest4.json  \n",
       "35                   JSONtest.json  \n",
       "36                  JSONtest2.json  \n",
       "37                  JSONtest3.json  \n",
       "38                    XMLtest4.xml  \n",
       "39                    XMLtest2.xml  \n",
       "40                    XMLtest3.xml  \n",
       "41                     XMLtest.xml  "
      ],
      "text/html": "<div>\n<style scoped>\n    .dataframe tbody tr th:only-of-type {\n        vertical-align: middle;\n    }\n\n    .dataframe tbody tr th {\n        vertical-align: top;\n    }\n\n    .dataframe thead th {\n        text-align: right;\n    }\n</style>\n<table border=\"1\" class=\"dataframe\">\n  <thead>\n    <tr style=\"text-align: right;\">\n      <th></th>\n      <th>name</th>\n      <th>date</th>\n      <th>height</th>\n      <th>weight</th>\n      <th>Source</th>\n    </tr>\n  </thead>\n  <tbody>\n    <tr>\n      <th>0</th>\n      <td>Brent Bricks</td>\n      <td>4/20/19</td>\n      <td>160</td>\n      <td>96</td>\n      <td>CSVtest3.csv</td>\n    </tr>\n    <tr>\n      <th>1</th>\n      <td>Jack Back</td>\n      <td>6/17/19</td>\n      <td>170</td>\n      <td>90</td>\n      <td>CSVtest3.csv</td>\n    </tr>\n    <tr>\n      <th>2</th>\n      <td>Jack Shwartz</td>\n      <td>8/27/20</td>\n      <td>150</td>\n      <td>80</td>\n      <td>CSVtest3.csv</td>\n    </tr>\n    <tr>\n      <th>3</th>\n      <td>Brock Bricks</td>\n      <td>4/10/2019</td>\n      <td>185</td>\n      <td>95</td>\n      <td>CSVtest2.csv</td>\n    </tr>\n    <tr>\n      <th>4</th>\n      <td>Jack Brack</td>\n      <td>6/7/2019</td>\n      <td>172</td>\n      <td>91</td>\n      <td>CSVtest2.csv</td>\n    </tr>\n    <tr>\n      <th>5</th>\n      <td>Jack Smith</td>\n      <td>4/1/2019</td>\n      <td>185</td>\n      <td>91</td>\n      <td>CSVtest.csv</td>\n    </tr>\n    <tr>\n      <th>6</th>\n      <td>Jack Black</td>\n      <td>4/2/2019</td>\n      <td>183</td>\n      <td>91</td>\n      <td>CSVtest.csv</td>\n    </tr>\n    <tr>\n      <th>7</th>\n      <td>Brent Bricks</td>\n      <td>4/20/19</td>\n      <td>160</td>\n      <td>96</td>\n      <td>NewCombinedFile_2020-10-18.csv</td>\n    </tr>\n    <tr>\n      <th>8</th>\n      <td>Jack Back</td>\n      <td>6/17/19</td>\n      <td>170</td>\n      <td>90</td>\n      <td>NewCombinedFile_2020-10-18.csv</td>\n    </tr>\n    <tr>\n      <th>9</th>\n      <td>Jack Shwartz</td>\n      <td>8/27/20</td>\n      <td>150</td>\n      <td>80</td>\n      <td>NewCombinedFile_2020-10-18.csv</td>\n    </tr>\n    <tr>\n      <th>10</th>\n      <td>Brock Bricks</td>\n      <td>4/10/2019</td>\n      <td>185</td>\n      <td>95</td>\n      <td>NewCombinedFile_2020-10-18.csv</td>\n    </tr>\n    <tr>\n      <th>11</th>\n      <td>Jack Brack</td>\n      <td>6/7/2019</td>\n      <td>172</td>\n      <td>91</td>\n      <td>NewCombinedFile_2020-10-18.csv</td>\n    </tr>\n    <tr>\n      <th>12</th>\n      <td>Jack Smith</td>\n      <td>4/1/2019</td>\n      <td>185</td>\n      <td>91</td>\n      <td>NewCombinedFile_2020-10-18.csv</td>\n    </tr>\n    <tr>\n      <th>13</th>\n      <td>Jack Black</td>\n      <td>4/2/2019</td>\n      <td>183</td>\n      <td>91</td>\n      <td>NewCombinedFile_2020-10-18.csv</td>\n    </tr>\n    <tr>\n      <th>14</th>\n      <td>Rock Royden</td>\n      <td>2019-05-02 00:00:00</td>\n      <td>160</td>\n      <td>52</td>\n      <td>NewCombinedFile_2020-10-18.csv</td>\n    </tr>\n    <tr>\n      <th>15</th>\n      <td>Brandon Snads</td>\n      <td>2019-10-02 00:00:00</td>\n      <td>175</td>\n      <td>80</td>\n      <td>NewCombinedFile_2020-10-18.csv</td>\n    </tr>\n    <tr>\n      <th>16</th>\n      <td>Jen Smith</td>\n      <td>2019-05-02 00:00:00</td>\n      <td>153</td>\n      <td>50</td>\n      <td>NewCombinedFile_2020-10-18.csv</td>\n    </tr>\n    <tr>\n      <th>17</th>\n      <td>Sam Smith</td>\n      <td>2019-01-02 00:00:00</td>\n      <td>160</td>\n      <td>55</td>\n      <td>NewCombinedFile_2020-10-18.csv</td>\n    </tr>\n    <tr>\n      <th>18</th>\n      <td>Rkck Rearden</td>\n      <td>2019-08-02 00:00:00</td>\n      <td>165</td>\n      <td>60</td>\n      <td>NewCombinedFile_2020-10-18.csv</td>\n    </tr>\n    <tr>\n      <th>19</th>\n      <td>Brandon Sands</td>\n      <td>2019-10-18 00:00:00</td>\n      <td>183</td>\n      <td>45</td>\n      <td>NewCombinedFile_2020-10-18.csv</td>\n    </tr>\n    <tr>\n      <th>20</th>\n      <td>Tito Jackson</td>\n      <td>04/05/2019</td>\n      <td>185</td>\n      <td>90</td>\n      <td>NewCombinedFile_2020-10-18.csv</td>\n    </tr>\n    <tr>\n      <th>21</th>\n      <td>Jane Smith</td>\n      <td>09/02/2019</td>\n      <td>170</td>\n      <td>75</td>\n      <td>NewCombinedFile_2020-10-18.csv</td>\n    </tr>\n    <tr>\n      <th>22</th>\n      <td>Jane Jackson</td>\n      <td>09/03/2019</td>\n      <td>172</td>\n      <td>74</td>\n      <td>NewCombinedFile_2020-10-18.csv</td>\n    </tr>\n    <tr>\n      <th>23</th>\n      <td>Becky Jackson</td>\n      <td>04/03/2019</td>\n      <td>165</td>\n      <td>70</td>\n      <td>NewCombinedFile_2020-10-18.csv</td>\n    </tr>\n    <tr>\n      <th>24</th>\n      <td>Brett Thompson</td>\n      <td>02/08/2019</td>\n      <td>190</td>\n      <td>91</td>\n      <td>NewCombinedFile_2020-10-18.csv</td>\n    </tr>\n    <tr>\n      <th>25</th>\n      <td>John Smithe</td>\n      <td>03/08/2019</td>\n      <td>185</td>\n      <td>101</td>\n      <td>NewCombinedFile_2020-10-18.csv</td>\n    </tr>\n    <tr>\n      <th>26</th>\n      <td>Brett Smithe</td>\n      <td>05/08/2019</td>\n      <td>179</td>\n      <td>99</td>\n      <td>NewCombinedFile_2020-10-18.csv</td>\n    </tr>\n    <tr>\n      <th>27</th>\n      <td>John Smith</td>\n      <td>02/08/2019</td>\n      <td>180</td>\n      <td>100</td>\n      <td>NewCombinedFile_2020-10-18.csv</td>\n    </tr>\n    <tr>\n      <th>28</th>\n      <td>Rock Royden</td>\n      <td>2019-05-02 00:00:00</td>\n      <td>160</td>\n      <td>52</td>\n      <td>EXCELtest2.xlsx</td>\n    </tr>\n    <tr>\n      <th>29</th>\n      <td>Brandon Snads</td>\n      <td>2019-10-02 00:00:00</td>\n      <td>175</td>\n      <td>80</td>\n      <td>EXCELtest2.xlsx</td>\n    </tr>\n    <tr>\n      <th>30</th>\n      <td>Jen Smith</td>\n      <td>2019-05-02 00:00:00</td>\n      <td>153</td>\n      <td>50</td>\n      <td>EXCELtest.xlsx</td>\n    </tr>\n    <tr>\n      <th>31</th>\n      <td>Sam Smith</td>\n      <td>2019-01-02 00:00:00</td>\n      <td>160</td>\n      <td>55</td>\n      <td>EXCELtest.xlsx</td>\n    </tr>\n    <tr>\n      <th>32</th>\n      <td>Rkck Rearden</td>\n      <td>2019-08-02 00:00:00</td>\n      <td>165</td>\n      <td>60</td>\n      <td>EXCELtest3.xlsx</td>\n    </tr>\n    <tr>\n      <th>33</th>\n      <td>Brandon Sands</td>\n      <td>2019-10-18 00:00:00</td>\n      <td>183</td>\n      <td>45</td>\n      <td>EXCELtest3.xlsx</td>\n    </tr>\n    <tr>\n      <th>34</th>\n      <td>Tito Jackson</td>\n      <td>04/05/2019</td>\n      <td>185</td>\n      <td>90</td>\n      <td>JSONtest4.json</td>\n    </tr>\n    <tr>\n      <th>35</th>\n      <td>Jane Smith</td>\n      <td>09/02/2019</td>\n      <td>170</td>\n      <td>75</td>\n      <td>JSONtest.json</td>\n    </tr>\n    <tr>\n      <th>36</th>\n      <td>Jane Jackson</td>\n      <td>09/03/2019</td>\n      <td>172</td>\n      <td>74</td>\n      <td>JSONtest2.json</td>\n    </tr>\n    <tr>\n      <th>37</th>\n      <td>Becky Jackson</td>\n      <td>04/03/2019</td>\n      <td>165</td>\n      <td>70</td>\n      <td>JSONtest3.json</td>\n    </tr>\n    <tr>\n      <th>38</th>\n      <td>Brett Thompson</td>\n      <td>02/08/2019</td>\n      <td>190</td>\n      <td>91</td>\n      <td>XMLtest4.xml</td>\n    </tr>\n    <tr>\n      <th>39</th>\n      <td>John Smithe</td>\n      <td>03/08/2019</td>\n      <td>185</td>\n      <td>101</td>\n      <td>XMLtest2.xml</td>\n    </tr>\n    <tr>\n      <th>40</th>\n      <td>Brett Smithe</td>\n      <td>05/08/2019</td>\n      <td>179</td>\n      <td>99</td>\n      <td>XMLtest3.xml</td>\n    </tr>\n    <tr>\n      <th>41</th>\n      <td>John Smith</td>\n      <td>02/08/2019</td>\n      <td>180</td>\n      <td>100</td>\n      <td>XMLtest.xml</td>\n    </tr>\n  </tbody>\n</table>\n</div>"
     },
     "metadata": {},
     "execution_count": 3
    }
   ],
   "source": [
    "import json\n",
    "import requests \n",
    "import xml.etree.ElementTree as ET\n",
    "\n",
    "# Iterate through the files in the directory and append each one into the dataframe.\n",
    "# This will only work correctly if the files have the exact same column names.\n",
    "df_list = []\n",
    "for f in files_csv:\n",
    "    data = pd.read_csv(str(file_path) + '/' + str(f), index_col=None, header=0)\n",
    "    data['Source'] = f\n",
    "    df_list.append(data)\n",
    "    \n",
    "for f in files_xlsx:\n",
    "    data = pd.read_excel(str(file_path) + '/' + str(f))\n",
    "    data['Source'] = f\n",
    "    df_list.append(data)\n",
    "    \n",
    "# Iterate through the json files and add data from each to a list.\n",
    "json_list = []\n",
    "for f in files_json:\n",
    "    with open(str(file_path) + '/' + str(f)) as json_file:\n",
    "        json_obj = json.load(json_file)\n",
    "        json_obj['Source'] = f\n",
    "        json_list.append(json_obj.copy())\n",
    "# Turn the combined list into a dataframe.\n",
    "data = pd.DataFrame(json_list)\n",
    "# Add the data frame to the list of dataframes.\n",
    "df_list.append(data)\n",
    "    \n",
    "# Iterate through the xml files and add data from each to a list.\n",
    "xml_list = []\n",
    "for f in files_xml:\n",
    "    # create element tree object \n",
    "    tree = ET.parse(str(file_path) + '/' + str(f))\n",
    "    # get root element \n",
    "    root = tree.getroot()\n",
    "    # create dictionary from XML tags and values\n",
    "    itemdict = {}\n",
    "    for item in root:\n",
    "        itemdict[item.tag] = item.text\n",
    "    itemdict['Source'] = f\n",
    "    xml_list.append(itemdict.copy())\n",
    "# Turn the combined list into a dataframe.\n",
    "data = pd.DataFrame(xml_list)\n",
    "# Add the data frame to the list of dataframes.\n",
    "df_list.append(data)\n",
    "\n",
    "# Combine all the data frames in the list into a single data frame.    \n",
    "df =  pd.concat(df_list, axis=0, ignore_index=True, sort=False)\n",
    "\n",
    "# See how many rows the data frame has.\n",
    "print(len(df.index))\n",
    "\n",
    "# Show the data in the data frame.\n",
    "df"
   ]
  },
  {
   "cell_type": "code",
   "execution_count": 4,
   "metadata": {},
   "outputs": [
    {
     "output_type": "stream",
     "name": "stdout",
     "text": [
      "2020-10-18\n/Users/juliareich/Desktop/Comp Sci Fundamentals/Module 7/exerPythCombineFiles/exerPythCombineFiles/FileTypes/NewCombinedFile_2020-10-18.csv\nFile saved.\n"
     ]
    }
   ],
   "source": [
    "# Save the dataframe to a new combined csv file.\n",
    "\n",
    "# Add today's date to the name of the new file.\n",
    "from datetime import date\n",
    "today = date.today()\n",
    "print(today)\n",
    "\n",
    "filename = str(file_path) + '/' + 'NewCombinedFile_' + str(today) + '.csv'\n",
    "print(filename)\n",
    "\n",
    "df.to_csv(filename, index=False)\n",
    "print('File saved.')"
   ]
  },
  {
   "cell_type": "code",
   "execution_count": null,
   "metadata": {},
   "outputs": [],
   "source": []
  }
 ],
 "metadata": {
  "kernelspec": {
   "display_name": "Python 3",
   "language": "python",
   "name": "python3"
  },
  "language_info": {
   "codemirror_mode": {
    "name": "ipython",
    "version": 3
   },
   "file_extension": ".py",
   "mimetype": "text/x-python",
   "name": "python",
   "nbconvert_exporter": "python",
   "pygments_lexer": "ipython3",
   "version": "3.8.3-final"
  },
  "varInspector": {
   "cols": {
    "lenName": 16,
    "lenType": 16,
    "lenVar": 40
   },
   "kernels_config": {
    "python": {
     "delete_cmd_postfix": "",
     "delete_cmd_prefix": "del ",
     "library": "var_list.py",
     "varRefreshCmd": "print(var_dic_list())"
    },
    "r": {
     "delete_cmd_postfix": ") ",
     "delete_cmd_prefix": "rm(",
     "library": "var_list.r",
     "varRefreshCmd": "cat(var_dic_list()) "
    }
   },
   "types_to_exclude": [
    "module",
    "function",
    "builtin_function_or_method",
    "instance",
    "_Feature"
   ],
   "window_display": false
  }
 },
 "nbformat": 4,
 "nbformat_minor": 2
}